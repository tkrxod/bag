{
  "nbformat": 4,
  "nbformat_minor": 0,
  "metadata": {
    "colab": {
      "name": "1주차 과제",
      "provenance": [],
      "collapsed_sections": [],
      "authorship_tag": "ABX9TyMccnXIXRWOkAMHAuapjVVN",
      "include_colab_link": true
    },
    "kernelspec": {
      "name": "python3",
      "display_name": "Python 3"
    }
  },
  "cells": [
    {
      "cell_type": "markdown",
      "metadata": {
        "id": "view-in-github",
        "colab_type": "text"
      },
      "source": [
        "<a href=\"https://colab.research.google.com/github/tkrxod/bag/blob/master/1%EC%A3%BC%EC%B0%A8_%EA%B3%BC%EC%A0%9C.ipynb\" target=\"_parent\"><img src=\"https://colab.research.google.com/assets/colab-badge.svg\" alt=\"Open In Colab\"/></a>"
      ]
    },
    {
      "cell_type": "markdown",
      "metadata": {
        "id": "aZH15DFY8MvX",
        "colab_type": "text"
      },
      "source": [
        "# 1주차 과제\n",
        "\n",
        "## 언어 : 스마트스피커\n",
        "\n",
        "구글은 언어처리를 위한 딥러닝 기술을 개발하기 위해 구글의 다국적 언어모델인 버트를 사용 해왔으며, 딥러닝 프레임워크를 활용하여 사용을합니다.\n",
        "\n",
        "## 음성 : 스마트폰,스마트스피커 음성인식\n",
        "\n",
        "음성 인공지능은 스마트홈과 IoT핵심 인터페이스로 점쳐지고있으며, 구글 어시스턴트, 시리, 빅스비 등 의 AI 플랫폼이 시장에 있으며, 각종 스마트제조사들은 냉장고, TV , 에어컨 등을 컨트롤하는 스마트홈 허브로 발돋움하고 있습니다.\n",
        "\n",
        "## 이미지 : 얼굴인식, 손제스처 인식\n",
        "\n",
        "얼굴 인식을 할 때에 비디오나 이미지에서 얼굴 특징을 매핑하여 인간의 얼굴을 탐지하며 , 구성 요소 분석(PCA) 를 사용하여 데이터를 데이터베이스와 일치 시키는 기능매핑과같은 여러 기능이 있습니다.\n",
        "손제스처 인식은 가상 현실게임과 같은 컴퓨터의 상호작용에 많은영향을 끼칩니다.\n",
        "\n",
        "## 자율주행 : 자율주행 차량\n",
        "\n",
        "현재의 자율주행 AI는 못미덥다는 평판이 꽤나많으며, 레벨4 이상의 자율주행은 주행 환경에 대한 모니터링과 풀백 기능까지 모두 운전자의 개입없이 수행할 수 있는 수준이며 , 이미 주행환경을 모니터링 하기위한 센서융합분야는 이미 딥러닝 인간의 딥러닝을 기반으로 과거 규칙 기반 접근방식의 성능수준을 벗어나 인간의 인식수준과 흡사하다고합니다. 앞으로 승인의 과정과 여러 나라의 상용과 과정이 매우 기다려집니다.\n",
        "\n"
      ]
    }
  ]
}