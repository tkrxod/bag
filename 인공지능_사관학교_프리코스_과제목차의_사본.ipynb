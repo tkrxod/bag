{
  "nbformat": 4,
  "nbformat_minor": 0,
  "metadata": {
    "colab": {
      "name": "인공지능 사관학교 프리코스 과제목차의 사본",
      "provenance": [],
      "collapsed_sections": [],
      "authorship_tag": "ABX9TyNKBAgsEKsDB52C8gOQA8VK",
      "include_colab_link": true
    },
    "kernelspec": {
      "name": "python3",
      "display_name": "Python 3"
    }
  },
  "cells": [
    {
      "cell_type": "markdown",
      "metadata": {
        "id": "view-in-github",
        "colab_type": "text"
      },
      "source": [
        "<a href=\"https://colab.research.google.com/github/tkrxod/bag/blob/master/%EC%9D%B8%EA%B3%B5%EC%A7%80%EB%8A%A5_%EC%82%AC%EA%B4%80%ED%95%99%EA%B5%90_%ED%94%84%EB%A6%AC%EC%BD%94%EC%8A%A4_%EA%B3%BC%EC%A0%9C%EB%AA%A9%EC%B0%A8%EC%9D%98_%EC%82%AC%EB%B3%B8.ipynb\" target=\"_parent\"><img src=\"https://colab.research.google.com/assets/colab-badge.svg\" alt=\"Open In Colab\"/></a>"
      ]
    },
    {
      "cell_type": "markdown",
      "metadata": {
        "id": "aZH15DFY8MvX",
        "colab_type": "text"
      },
      "source": [
        "### 1주차 과제\n",
        "\n",
        "언어 : \n",
        "\n",
        "음성 : \n",
        "\n",
        "이미지 : \n",
        "\n",
        "자율주행 : \n",
        "\n"
      ]
    }
  ]
}